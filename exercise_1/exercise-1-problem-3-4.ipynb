{
 "cells": [
  {
   "cell_type": "markdown",
   "metadata": {
    "deletable": false,
    "editable": false,
    "nbgrader": {
     "cell_type": "markdown",
     "checksum": "820168447aea5b4e3a313d713cfdf029",
     "grade": false,
     "grade_id": "cell-8e97f56bdddd1895",
     "locked": true,
     "schema_version": 3,
     "solution": false
    }
   },
   "source": [
    "# Problems 3-4 intro\n",
    "\n",
    "One of the most typical problems in GIS is the situation where you have a set of coordinates in some file, and you need to map those. Python is a really handy tool for these kind of situations, as it is possible to read data from (basically) any kind of input datafile (such as csv-, txt-, excel-, gpx-files (gps data), databases etc.). \n",
    "\n",
    "Let's see how we can read data from a file and create Point -objects from them. Later on in the course, we will learn how to write the data in various GIS file formats (including Shapefiles and geopackages). \n",
    "\n",
    "Our dataset **[travelTimes_2015_Helsinki.txt](https://raw.githubusercontent.com/AutoGIS-2021/exercise-1/main/data/travelTimes_2015_Helsinki.txt)** consist of \n",
    "travel times between specific locations in Helsinki Region. The file is located in the `data` folder in this exercise repository. The first four rows of our data look like this:\n",
    "\n",
    "```\n",
    "   from_id;to_id;fromid_toid;route_number;at;from_x;from_y;to_x;to_y;total_route_time;route_time;route_distance\n",
    "   5861326;5785640;5861326_5785640;1;08:10;24.9704379;60.3119173;24.8560344;60.399940599999994;125.0;99.0;22917.6\n",
    "   5861326;5785641;5861326_5785641;1;08:10;24.9704379;60.3119173;24.8605682;60.4000135;123.0;102.0;23123.5\n",
    "   5861326;5785642;5861326_5785642;1;08:10;24.9704379;60.3119173;24.865102;60.4000863;125.0;103.0;23241.3\n",
    "```\n",
    "\n",
    "In this exercise, we are interested in these columns:\n",
    "\n",
    "| Column | Description |\n",
    "|--------|-------------|\n",
    "| from_x | x-coordinate of the **origin** location (longitude) |\n",
    "| from_y | y-coordinate of the **origin** location (latitude) |\n",
    "| to_x   | x-coordinate of the **destination** location (longitude)|\n",
    "| to_y   | y-coordinate of the **destination** location (latitude) |\n",
    "| total_route_time | Travel time with public transportation at the route |\n",
    "\n",
    "More information about the input data set is available at the Digital Geography Lab / Accessibility Research Group  website: https://blogs.helsinki.fi/accessibility/helsinki-region-travel-time-matrix/.\n",
    "\n",
    "\n",
    "\n",
    "\n",
    "## Problem 3: Reading coordinates from a file and creating geometries (*5 points*) \n",
    "\n",
    "In problem 3, our goal is to read in the data using Pandas and create two lists `orig_points`and `dest_points` that contain the origin points (based on columns `from_x` and `from_y`) and destination points (based on columns `to_x` and `to_y`) as Shapely objects.\n",
    "\n",
    "### Steps\n",
    "\n",
    "1: Read the [data/travelTimes_2015_Helsinki.txt](https://raw.githubusercontent.com/AutoGIS-2021/exercise-1/main/data/travelTimes_2015_Helsinki.txt) file into a variable **`data`** using  pandas.\n"
   ]
  },
  {
   "cell_type": "code",
   "execution_count": 1,
   "metadata": {
    "deletable": false,
    "nbgrader": {
     "cell_type": "code",
     "checksum": "151de7bc9173c1a268bd1a031699dab0",
     "grade": false,
     "grade_id": "read_data",
     "locked": false,
     "schema_version": 3,
     "solution": true
    }
   },
   "outputs": [],
   "source": [
    "# Import Pandas\n",
    "import pandas as pd\n",
    "\n",
    "# Read the data\n",
    "data = pd.read_csv(\"https://raw.githubusercontent.com/AutoGIS-2021/exercise-1/main/data/travelTimes_2015_Helsinki.txt\", sep=\";\")"
   ]
  },
  {
   "cell_type": "code",
   "execution_count": 2,
   "metadata": {},
   "outputs": [
    {
     "data": {
      "text/plain": [
       "(14643, 13)"
      ]
     },
     "execution_count": 2,
     "metadata": {},
     "output_type": "execute_result"
    }
   ],
   "source": [
    "#Check how many rows and columns there are:\n",
    "data.shape"
   ]
  },
  {
   "cell_type": "code",
   "execution_count": 3,
   "metadata": {
    "deletable": false,
    "editable": false,
    "nbgrader": {
     "cell_type": "code",
     "checksum": "ebc40fce0e44a4b17f138fd5d26cf39c",
     "grade": true,
     "grade_id": "problem_3_read_data_test",
     "locked": true,
     "points": 0.5,
     "schema_version": 3,
     "solution": false
    }
   },
   "outputs": [
    {
     "name": "stdout",
     "output_type": "stream",
     "text": [
      "   from_id    to_id      fromid_toid  route_number     at     from_x  \\\n",
      "0  5861326  5785640  5861326_5785640             1  08:10  24.970438   \n",
      "1  5861326  5785641  5861326_5785641             1  08:10  24.970438   \n",
      "2  5861326  5785642  5861326_5785642             1  08:10  24.970438   \n",
      "3  5861326  5785643  5861326_5785643             1  08:10  24.970438   \n",
      "4  5861326  5787544  5861326_5787544             1  08:10  24.970438   \n",
      "\n",
      "      from_y       to_x       to_y  total_route_time  route_time  \\\n",
      "0  60.311917  24.856034  60.399941             125.0        99.0   \n",
      "1  60.311917  24.860568  60.400014             123.0       102.0   \n",
      "2  60.311917  24.865102  60.400086             125.0       103.0   \n",
      "3  60.311917  24.869636  60.400159             129.0       107.0   \n",
      "4  60.311917  24.842582  60.397478             118.0        92.0   \n",
      "\n",
      "   route_distance  route_total_lines  \n",
      "0         22917.6                2.0  \n",
      "1         23123.5                2.0  \n",
      "2         23241.3                2.0  \n",
      "3         23534.2                2.0  \n",
      "4         22428.2                2.0  \n"
     ]
    }
   ],
   "source": [
    "# NON-EDITABLE CODE CELL FOR TESTING YOUR SOLUTION\n",
    "\n",
    "# This test print should print first five rows in the data (if not, something is incorrect):\n",
    "print(data.head())"
   ]
  },
  {
   "cell_type": "markdown",
   "metadata": {
    "deletable": false,
    "editable": false,
    "nbgrader": {
     "cell_type": "markdown",
     "checksum": "67de65d4648cb1eaa0132cadd09e2a90",
     "grade": false,
     "grade_id": "select_data_instructions",
     "locked": true,
     "schema_version": 3,
     "solution": false
    }
   },
   "source": [
    "2: Select the 4 columns that contain coordinate information (**'from_x'**, **'from_y'**, **'to_x'**, **'to_y'**) and store them in variable **`data`** (i.e. update the data -variable  to contain only these four columns).\n"
   ]
  },
  {
   "cell_type": "code",
   "execution_count": 4,
   "metadata": {
    "deletable": false,
    "nbgrader": {
     "cell_type": "code",
     "checksum": "5e13934af46fe982ecbd1e8210d769b7",
     "grade": false,
     "grade_id": "select_data",
     "locked": false,
     "schema_version": 3,
     "solution": true
    }
   },
   "outputs": [],
   "source": [
    "# Select the columns with interested information\n",
    "data = data[[\"from_x\", \"from_y\", \"to_x\", \"to_y\"]]"
   ]
  },
  {
   "cell_type": "code",
   "execution_count": 5,
   "metadata": {
    "deletable": false,
    "editable": false,
    "nbgrader": {
     "cell_type": "code",
     "checksum": "d800fd88737cb078d58a9327c6c03964",
     "grade": true,
     "grade_id": "problem_3_select_data_test",
     "locked": true,
     "points": 0.5,
     "schema_version": 3,
     "solution": false
    }
   },
   "outputs": [
    {
     "name": "stdout",
     "output_type": "stream",
     "text": [
      "['from_x', 'from_y', 'to_x', 'to_y']\n"
     ]
    }
   ],
   "source": [
    "# NON-EDITABLE CODE CELL FOR TESTING YOUR SOLUTION\n",
    "print(list(data.columns))"
   ]
  },
  {
   "cell_type": "markdown",
   "metadata": {
    "deletable": false,
    "editable": false,
    "nbgrader": {
     "cell_type": "markdown",
     "checksum": "5ce542caad89ef82d11397c7f7d3f3be",
     "grade": false,
     "grade_id": "create_lists_instructions",
     "locked": true,
     "schema_version": 3,
     "solution": false
    }
   },
   "source": [
    "3: Create two empty lists called **`orig_points`** and **`dest_points`**. We will store the shapely points in these lists in the next step.\n"
   ]
  },
  {
   "cell_type": "code",
   "execution_count": 6,
   "metadata": {
    "deletable": false,
    "nbgrader": {
     "cell_type": "code",
     "checksum": "f45d7c6d42401ceed792d673a60d5d19",
     "grade": false,
     "grade_id": "create_lists",
     "locked": false,
     "schema_version": 3,
     "solution": true
    }
   },
   "outputs": [],
   "source": [
    "# Initialize origin and destination points lists\n",
    "orig_points, dest_points = [], []"
   ]
  },
  {
   "cell_type": "code",
   "execution_count": 7,
   "metadata": {
    "deletable": false,
    "editable": false,
    "nbgrader": {
     "cell_type": "code",
     "checksum": "948046d3f24b16cbd5f952e70044ca53",
     "grade": true,
     "grade_id": "problem_3_create_lists_test",
     "locked": true,
     "points": 0.5,
     "schema_version": 3,
     "solution": false
    }
   },
   "outputs": [
    {
     "name": "stdout",
     "output_type": "stream",
     "text": [
      "orig_points length: 0\n",
      "dest_points length: 0\n"
     ]
    }
   ],
   "source": [
    "# NON-EDITABLE CODE CELL FOR TESTING YOUR SOLUTION\n",
    "\n",
    "# List length should be zero at this point:\n",
    "print('orig_points length:', len(orig_points))\n",
    "print('dest_points length:', len(dest_points))"
   ]
  },
  {
   "cell_type": "markdown",
   "metadata": {
    "deletable": false,
    "editable": false,
    "nbgrader": {
     "cell_type": "markdown",
     "checksum": "6ac7f0500cdc71eca43110a4edffdf68",
     "grade": false,
     "grade_id": "cell-386a63916905663b",
     "locked": true,
     "schema_version": 3,
     "solution": false
    }
   },
   "source": [
    "4: Create shapely points for each origin and destination and add origin points to `orig_points` list and destination points to `dest_points` list.\n",
    "\n",
    "- Create origin points based on columns `from_x` and `from_y`\n",
    "- Create destination points based on columns `to_x` and `to_y`\n",
    "\n",
    "**HOW?**\n",
    "\n",
    "**Approach A:** \n",
    "\n",
    "- Create a for-loop and iterate over the rows of your dataframe\n",
    "- For each row, create Shapely Point -objects based on the coordinate columns (columns `from_x` and `from_y` for the origins and columns `to_x` and `to_y` for the destinations)\n",
    "- Append the point objects into the **`orig_points`** -list and **`dest_point`** -list.\n",
    "\n",
    "See [Geo-Python Lesson 6 materials for iterating data frame fows](https://geo-python-site.readthedocs.io/en/latest/notebooks/L6/advanced-data-processing-with-pandas.html#iterating-over-rows) for more help.\n",
    "\n",
    "**Approach B (advanced):**\n",
    "- Apply the Shapely point constructor on each row all at once. \n",
    "    - Define your own function and apply it on the dataframe (in practice, the function is applied on each row). See [pandas documentation](https://pandas.pydata.org/pandas-docs/stable/reference/api/pandas.DataFrame.apply.html) for help.\n",
    "    - Alternatively, you can apply the Polygon constructor directly using a lambda function, See hints e.g. [in here](https://towardsdatascience.com/apply-and-lambda-usage-in-pandas-b13a1ea037f7).\n",
    "    - You can store the outputs either to new columns in the dataframe, or separate variables (Pandas Series objects)\n",
    "- Convert outputs into lists and assign as values for `orign_points` and `dest_points` lists (data type needs to be a list for the next steps!).\n",
    "\n",
    "\n"
   ]
  },
  {
   "cell_type": "code",
   "execution_count": 8,
   "metadata": {
    "deletable": false,
    "nbgrader": {
     "cell_type": "code",
     "checksum": "bf3d5f404840ef5b691321994a02a423",
     "grade": false,
     "grade_id": "create-points",
     "locked": false,
     "schema_version": 3,
     "solution": true
    }
   },
   "outputs": [
    {
     "name": "stderr",
     "output_type": "stream",
     "text": [
      "/Users/gonetybo/Documents/Professional/Learning/ossu/datacamp/projects/venv/lib/python3.8/site-packages/pandas/core/dtypes/cast.py:122: ShapelyDeprecationWarning: The array interface is deprecated and will no longer work in Shapely 2.0. Convert the '.coords' to a numpy array instead.\n",
      "  arr = construct_1d_object_array_from_listlike(values)\n",
      "/Users/gonetybo/Documents/Professional/Learning/ossu/datacamp/projects/venv/lib/python3.8/site-packages/pandas/core/dtypes/cast.py:122: ShapelyDeprecationWarning: The array interface is deprecated and will no longer work in Shapely 2.0. Convert the '.coords' to a numpy array instead.\n",
      "  arr = construct_1d_object_array_from_listlike(values)\n"
     ]
    }
   ],
   "source": [
    "# Import Point geometry object from Shapely\n",
    "from shapely.geometry import Point\n",
    "\n",
    "# Create shapely points for origin and destination points\n",
    "orig_points = list(data.apply(lambda x: Point(x.from_x, x.from_y), axis=1))\n",
    "dest_points = list(data.apply(lambda x: Point(x.to_x, x.to_x), axis=1))"
   ]
  },
  {
   "cell_type": "markdown",
   "metadata": {},
   "source": [
    "**NOTE: After you have solved this problem, we recommend that you restart the kernel and run all cells again!**"
   ]
  },
  {
   "cell_type": "code",
   "execution_count": 9,
   "metadata": {
    "deletable": false,
    "editable": false,
    "nbgrader": {
     "cell_type": "code",
     "checksum": "9c0247dc36d9a97a1d229a92aae29d7e",
     "grade": true,
     "grade_id": "problem_3_create_points_test",
     "locked": true,
     "points": 3.5,
     "schema_version": 3,
     "solution": false
    }
   },
   "outputs": [
    {
     "name": "stdout",
     "output_type": "stream",
     "text": [
      "ORIGIN X Y: 24.9704379 60.3119173\n",
      "DESTINATION X Y: 24.8560344 24.8560344\n"
     ]
    }
   ],
   "source": [
    "# NON-EDITABLE CODE CELL FOR TESTING YOUR SOLUTION\n",
    "\n",
    "# This test print should print out the first origin and destination coordinates in the two lists:\n",
    "print(\"ORIGIN X Y:\", orig_points[0].x, orig_points[0].y)\n",
    "print(\"DESTINATION X Y:\", dest_points[0].x, dest_points[0].y)\n",
    "\n",
    "#Check that you created a correct amount of points:\n",
    "assert len(orig_points) == len(data), \"Number of origin points must be the same as number of rows in the original file\"\n",
    "assert len(dest_points) == len(data), \"Number of destination points must be the same as number of rows in the original file\""
   ]
  },
  {
   "cell_type": "markdown",
   "metadata": {
    "deletable": false,
    "editable": false,
    "nbgrader": {
     "cell_type": "markdown",
     "checksum": "4c868e09b5983f5a0f20298afaa365ca",
     "grade": false,
     "grade_id": "done_3",
     "locked": true,
     "schema_version": 3,
     "solution": false
    }
   },
   "source": [
    "Remember to commit your code using git after each major change (for example, after solving each problem).\n",
    "\n",
    "## Done!\n",
    "\n",
    "That's it. Now you are ready to continue for the final Problem 4."
   ]
  },
  {
   "cell_type": "markdown",
   "metadata": {
    "deletable": false,
    "editable": false,
    "nbgrader": {
     "cell_type": "markdown",
     "checksum": "a830acad067160bf9e03069917df4793",
     "grade": false,
     "grade_id": "cell-9566ff76a1dc4a27",
     "locked": true,
     "schema_version": 3,
     "solution": false
    }
   },
   "source": [
    "## Problem 4: Creating LineStrings that represent the movements (*5 points*):\n",
    "\n",
    "This task continuous where we left in Problem 3. In this problem, the goal is to create lines (Shapely LineString objects) between each origin-destination pair.\n",
    "   \n",
    "1: Create a list called `lines`\n"
   ]
  },
  {
   "cell_type": "code",
   "execution_count": 10,
   "metadata": {
    "deletable": false,
    "nbgrader": {
     "cell_type": "code",
     "checksum": "ba0d5e1d06dad8290d4cdeaed2fd1e9b",
     "grade": false,
     "grade_id": "line_list",
     "locked": false,
     "schema_version": 3,
     "solution": true
    }
   },
   "outputs": [],
   "source": [
    "# Import LineString geometry object from Shapely\n",
    "from shapely.geometry import LineString\n",
    "\n",
    "# Initialize the list of lines\n",
    "lines = []"
   ]
  },
  {
   "cell_type": "code",
   "execution_count": 11,
   "metadata": {
    "deletable": false,
    "editable": false,
    "nbgrader": {
     "cell_type": "code",
     "checksum": "8735d977c5e18f18218dc4657f037c9a",
     "grade": true,
     "grade_id": "problem_4_line_list_test",
     "locked": true,
     "points": 0.5,
     "schema_version": 3,
     "solution": false
    }
   },
   "outputs": [
    {
     "name": "stdout",
     "output_type": "stream",
     "text": [
      "lines length: 0\n"
     ]
    }
   ],
   "source": [
    "# NON-EDITABLE CODE CELL FOR TESTING YOUR SOLUTION\n",
    "\n",
    "# Lines length should be zero at this stage:\n",
    "print('lines length:', len(lines))"
   ]
  },
  {
   "cell_type": "markdown",
   "metadata": {},
   "source": [
    "2a: Create a Shapely LineString -object for each origin and destination pair\n",
    "\n",
    "  - Alternative 1: You can take advantage of `range()` function and index values to access the values from two lists at the same time inside a for-loop.\n",
    "     \n",
    "  - Alternative 2: You can use `zip()` function to iterate over many lists at the same time. [See hints for this week](https://autogis-site.readthedocs.io/en/latest/lessons/L1/exercise-1.html#iterating-multiple-lists-simultaneously)\n",
    "  \n",
    "2b: Add each LineString object into the `lines` -list you created before.\n"
   ]
  },
  {
   "cell_type": "code",
   "execution_count": 12,
   "metadata": {
    "deletable": false,
    "nbgrader": {
     "cell_type": "code",
     "checksum": "cf69f16dd57f43c103bb14edc0fa66f4",
     "grade": false,
     "grade_id": "create_od_line",
     "locked": false,
     "schema_version": 3,
     "solution": true
    }
   },
   "outputs": [],
   "source": [
    "# Create shapely linestrings from origin and destination point lists\n",
    "lines = [LineString([orig, dest]) for orig, dest in zip(orig_points, dest_points)]"
   ]
  },
  {
   "cell_type": "markdown",
   "metadata": {},
   "source": [
    "**NOTE: After you have solved this problem, we recommend that you restart the kernel and run all cells again! There is a risk that you append the same points to the lists many times if you run the cell multiple times without restarting the kernel.**"
   ]
  },
  {
   "cell_type": "code",
   "execution_count": 13,
   "metadata": {
    "deletable": false,
    "editable": false,
    "nbgrader": {
     "cell_type": "code",
     "checksum": "ce2c2d0fac45e351c78e4692379fcd46",
     "grade": true,
     "grade_id": "problem_4_create_od_line_test",
     "locked": true,
     "points": 2,
     "schema_version": 3,
     "solution": false
    }
   },
   "outputs": [],
   "source": [
    "# NON-EDITABLE CODE CELL FOR TESTING YOUR SOLUTION\n",
    "\n",
    "#Test that the list has correct number of LineStrings\n",
    "assert len(lines) == len(data), \"There should be as many lines as there are rows in the original data\""
   ]
  },
  {
   "cell_type": "markdown",
   "metadata": {},
   "source": [
    "3: Create a variable called **`total_length`**, and store the total (Euclidian) distance of all the origin-destination LineStrings that we just created into that variable.\n",
    "\n",
    "  - Hint: You might want to iterate over the lines and update the total lenght on each iteration.\n"
   ]
  },
  {
   "cell_type": "code",
   "execution_count": 14,
   "metadata": {
    "deletable": false,
    "nbgrader": {
     "cell_type": "code",
     "checksum": "bc32357fb8e3f87de64329bf70ac7273",
     "grade": false,
     "grade_id": "euclidian_distance",
     "locked": false,
     "schema_version": 3,
     "solution": true
    }
   },
   "outputs": [],
   "source": [
    "# Calculate the total (Euclidian) distance of all origin-destination LineStrings\n",
    "total_length = sum([line_string.length for line_string in lines])"
   ]
  },
  {
   "cell_type": "code",
   "execution_count": 15,
   "metadata": {
    "deletable": false,
    "editable": false,
    "nbgrader": {
     "cell_type": "code",
     "checksum": "0dca3df4788b720523aaebe74b7c229d",
     "grade": true,
     "grade_id": "problem_4_euclidian_distance_test",
     "locked": true,
     "points": 1.5,
     "schema_version": 3,
     "solution": false
    }
   },
   "outputs": [
    {
     "name": "stdout",
     "output_type": "stream",
     "text": [
      "Total length of all lines is 519255.12\n"
     ]
    }
   ],
   "source": [
    "# NON-EDITABLE CODE CELL FOR TESTING YOUR SOLUTION\n",
    "\n",
    "# This test print should print the total length of all lines\n",
    "print(\"Total length of all lines is\", round(total_length, 2))"
   ]
  },
  {
   "cell_type": "markdown",
   "metadata": {},
   "source": [
    "4: write the previous parts, i.e. the creation of the LineString and calculating the total distance, into dedicated functions:  \n",
    "\n",
    "- `create_od_lines()`: Takes two lists of Shapely Point -objects as input and returns a list of LineStrings\n",
    "- `calculate_total_distance()`: Takes a list of LineString geometries as input and returs their total length\n",
    "\n",
    "You can copy and paste the codes you have written earlier into the functions. Below, you can find a code cell for testing your functions (you should get the same result as earler).\n",
    "\n",
    "**Note: avoid using the same variable names as earlier inside your functions!** Functions are often defined at the top of the script file (or jupyter notebook), and now that we have them here at the very end you might accidentally alter an existing variable inside your functions. To avoid this, alter the variable names inside your own functions if you re-use code from this notebook. "
   ]
  },
  {
   "cell_type": "code",
   "execution_count": 16,
   "metadata": {
    "deletable": false,
    "nbgrader": {
     "cell_type": "code",
     "checksum": "ec2e73a162f99d6ef6def26c558daed8",
     "grade": false,
     "grade_id": "distance_function",
     "locked": false,
     "schema_version": 3,
     "solution": true,
     "task": false
    }
   },
   "outputs": [],
   "source": [
    "def create_od_lines(origin, destination):\n",
    "    \"\"\"\n",
    "    Returns a list of LineStrings from each origin and \n",
    "    destination Shapely Point geometry objects in input lists.\n",
    "    \n",
    "    Parameters\n",
    "    ----------\n",
    "    origin : list\n",
    "        List of Shapely Point geometry objects representing origin points\n",
    "    destination : list\n",
    "        List of Shapely Point geometry objects representing destination points\n",
    "        \n",
    "    Return\n",
    "    ------\n",
    "        List of Shapely LineString geometry objects\n",
    "    \"\"\"\n",
    "    # Check that the inputs are lists\n",
    "    assert type(origin) == list and type(destination) == list, \"Inputs should be lists!\"\n",
    "    \n",
    "    # Check that the inputs have the same length and not zero\n",
    "    assert len(origin) == len(destination) and len(origin) > 0, \"Input are empty or don't have the same length!\"\n",
    "    \n",
    "    # Check that inputs are list of Shapely Point geometry objects\n",
    "    origin_type = list(set([type(obj) for obj in origin]))\n",
    "    destination_type = list(set([type(obj) for obj in destination]))\n",
    "    assert origin_type[0] == Point and destination_type[0] == Point, \"All objects in inputs should be Shapely Point geometry objects!\"\n",
    "    \n",
    "    return [LineString([orig, dest]) for orig, dest in zip(origin, destination)]"
   ]
  },
  {
   "cell_type": "code",
   "execution_count": 17,
   "metadata": {},
   "outputs": [],
   "source": [
    "def calculate_total_distance(line_strings):\n",
    "    \"\"\"\n",
    "    Returns total length of Shapely LineString geometry objects in line_strings list.\n",
    "    \n",
    "    Parameter\n",
    "    ---------\n",
    "    line_strings : list\n",
    "        List of Shapely LineString geometry objects\n",
    "        \n",
    "    Return\n",
    "    ------\n",
    "        Int representing total length of Shapely LineString geometry objects\n",
    "    \"\"\"\n",
    "    # Check that the input is a list\n",
    "    assert type(line_strings) == list, \"Input should be list!\"\n",
    "    \n",
    "    # Check that inputs are list of Shapely Point geometry objects\n",
    "    line_strings_type = list(set([type(obj) for obj in line_strings]))\n",
    "    assert line_strings_type[0] == LineString, \"All objects in input should be Shapely LineString geometry objects\"\n",
    "    \n",
    "    return sum([line_string.length for line_string in line_strings])"
   ]
  },
  {
   "cell_type": "code",
   "execution_count": 18,
   "metadata": {
    "deletable": false,
    "editable": false,
    "nbgrader": {
     "cell_type": "code",
     "checksum": "79ca13d16d4379771c3c353585e731e7",
     "grade": true,
     "grade_id": "problem_4_distance_function",
     "locked": true,
     "points": 1,
     "schema_version": 3,
     "solution": false,
     "task": false
    }
   },
   "outputs": [
    {
     "name": "stdout",
     "output_type": "stream",
     "text": [
      "Total distance 519255.12\n"
     ]
    }
   ],
   "source": [
    "# NON-EDITABLE CODE CELL FOR TESTING YOUR SOLUTION\n",
    "\n",
    "# Use the functions\n",
    "# -----------------\n",
    "\n",
    "# Create origin-destination lines\n",
    "od_lines = create_od_lines(orig_points, dest_points)\n",
    "\n",
    "# Calculate the total distance\n",
    "tot_dist = calculate_total_distance(od_lines)\n",
    "\n",
    "print(\"Total distance\", round(tot_dist,2))"
   ]
  },
  {
   "cell_type": "markdown",
   "metadata": {},
   "source": [
    "\n",
    "## All done!\n",
    "\n",
    "Awesome, now you have successfully practiced how geometries can be created in Python. Next week we will start using them actively."
   ]
  }
 ],
 "metadata": {
  "kernelspec": {
   "display_name": "Python 3 (ipykernel)",
   "language": "python",
   "name": "python3"
  },
  "language_info": {
   "codemirror_mode": {
    "name": "ipython",
    "version": 3
   },
   "file_extension": ".py",
   "mimetype": "text/x-python",
   "name": "python",
   "nbconvert_exporter": "python",
   "pygments_lexer": "ipython3",
   "version": "3.8.2"
  }
 },
 "nbformat": 4,
 "nbformat_minor": 4
}
