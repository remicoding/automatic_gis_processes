{
 "cells": [
  {
   "cell_type": "markdown",
   "metadata": {},
   "source": [
    "## Problem 4: What is the closest shopping center from your home / work? (5 points)\n",
    "\n",
    "In the last problem you should find out the closest shopping center from two different locations a) your home and b) work place. \n",
    "\n",
    "**Steps**:\n",
    "\n",
    " - Create a txt-file called `activity_locations.txt` (use same formatting as in Problem 1) with two columns:\n",
    "    - `id`: unique id for each row\n",
    "    - `addr`:  address of your work and home (or any two addresses in the Helsinki Region.)\n",
    "    \n",
    "Save the text file into this repository.\n",
    "    \n",
    " - Read those addresses using pandas and geocode the addresses.\n",
    " - Find out the nearest shopping center to these points using Shapely `nearest_points`.\n",
    " - Print out the name of the shopping center that is nearest to a) home and b) work. For example: `Shopping center closest to home: REDI`."
   ]
  },
  {
   "cell_type": "code",
   "execution_count": 1,
   "metadata": {
    "deletable": false,
    "nbgrader": {
     "cell_type": "code",
     "checksum": "f8d9bb1491a5675d77264cebbf529f88",
     "grade": false,
     "grade_id": "read_data",
     "locked": false,
     "schema_version": 3,
     "solution": true
    }
   },
   "outputs": [
    {
     "data": {
      "text/html": [
       "<div>\n",
       "<style scoped>\n",
       "    .dataframe tbody tr th:only-of-type {\n",
       "        vertical-align: middle;\n",
       "    }\n",
       "\n",
       "    .dataframe tbody tr th {\n",
       "        vertical-align: top;\n",
       "    }\n",
       "\n",
       "    .dataframe thead th {\n",
       "        text-align: right;\n",
       "    }\n",
       "</style>\n",
       "<table border=\"1\" class=\"dataframe\">\n",
       "  <thead>\n",
       "    <tr style=\"text-align: right;\">\n",
       "      <th></th>\n",
       "      <th>id</th>\n",
       "      <th>name</th>\n",
       "      <th>addr</th>\n",
       "    </tr>\n",
       "  </thead>\n",
       "  <tbody>\n",
       "    <tr>\n",
       "      <th>0</th>\n",
       "      <td>0</td>\n",
       "      <td>Bain &amp; Company</td>\n",
       "      <td>Aleksanterinkatu 30-34, 00100 Helsinki, Finland</td>\n",
       "    </tr>\n",
       "    <tr>\n",
       "      <th>1</th>\n",
       "      <td>1</td>\n",
       "      <td>Vartiokylä Church</td>\n",
       "      <td>Kiviportintie 5, 00950 Helsinki, Finland</td>\n",
       "    </tr>\n",
       "  </tbody>\n",
       "</table>\n",
       "</div>"
      ],
      "text/plain": [
       "   id               name                                             addr\n",
       "0   0     Bain & Company  Aleksanterinkatu 30-34, 00100 Helsinki, Finland\n",
       "1   1  Vartiokylä Church         Kiviportintie 5, 00950 Helsinki, Finland"
      ]
     },
     "execution_count": 1,
     "metadata": {},
     "output_type": "execute_result"
    }
   ],
   "source": [
    "# Import modules\n",
    "import pandas as pd\n",
    "import matplotlib.pyplot as plt\n",
    "import geopandas as gpd\n",
    "from pyproj import CRS\n",
    "from shapely.ops import nearest_points\n",
    "\n",
    "# read in input files\n",
    "data = pd.read_csv(\"activity_locations.txt\", sep=\";\")\n",
    "data"
   ]
  },
  {
   "cell_type": "code",
   "execution_count": 2,
   "metadata": {
    "deletable": false,
    "nbgrader": {
     "cell_type": "code",
     "checksum": "cde51574e6cd404266ead2aad7ac5938",
     "grade": false,
     "grade_id": "geocode",
     "locked": false,
     "schema_version": 3,
     "solution": true,
     "task": false
    }
   },
   "outputs": [
    {
     "data": {
      "text/html": [
       "<div>\n",
       "<style scoped>\n",
       "    .dataframe tbody tr th:only-of-type {\n",
       "        vertical-align: middle;\n",
       "    }\n",
       "\n",
       "    .dataframe tbody tr th {\n",
       "        vertical-align: top;\n",
       "    }\n",
       "\n",
       "    .dataframe thead th {\n",
       "        text-align: right;\n",
       "    }\n",
       "</style>\n",
       "<table border=\"1\" class=\"dataframe\">\n",
       "  <thead>\n",
       "    <tr style=\"text-align: right;\">\n",
       "      <th></th>\n",
       "      <th>geometry</th>\n",
       "      <th>address</th>\n",
       "    </tr>\n",
       "  </thead>\n",
       "  <tbody>\n",
       "    <tr>\n",
       "      <th>0</th>\n",
       "      <td>POINT (24.95069 60.16884)</td>\n",
       "      <td>Bain &amp; Company, 30-34, Aleksanterinkatu, Kesku...</td>\n",
       "    </tr>\n",
       "    <tr>\n",
       "      <th>1</th>\n",
       "      <td>POINT (25.10160 60.21981)</td>\n",
       "      <td>Vartiokylän kirkko, 5, Kiviportintie, Vartioha...</td>\n",
       "    </tr>\n",
       "  </tbody>\n",
       "</table>\n",
       "</div>"
      ],
      "text/plain": [
       "                    geometry  \\\n",
       "0  POINT (24.95069 60.16884)   \n",
       "1  POINT (25.10160 60.21981)   \n",
       "\n",
       "                                             address  \n",
       "0  Bain & Company, 30-34, Aleksanterinkatu, Kesku...  \n",
       "1  Vartiokylän kirkko, 5, Kiviportintie, Vartioha...  "
      ]
     },
     "execution_count": 2,
     "metadata": {},
     "output_type": "execute_result"
    }
   ],
   "source": [
    "# Geocode activity locations\n",
    "geo = gpd.tools.geocode(data[\"addr\"], provider=\"nominatim\", user_agent=\"autogis_xx\", timeout=4)\n",
    "geo"
   ]
  },
  {
   "cell_type": "code",
   "execution_count": 3,
   "metadata": {
    "deletable": false,
    "nbgrader": {
     "cell_type": "code",
     "checksum": "866e8fe33cb5b2e5f7d3fbecd76130f1",
     "grade": false,
     "grade_id": "check_crs",
     "locked": false,
     "schema_version": 3,
     "solution": true,
     "task": false
    }
   },
   "outputs": [
    {
     "name": "stdout",
     "output_type": "stream",
     "text": [
      "The existing CRS of geo is EPSG:4326\n",
      "The reprojected CRS of geo is epsg:3879\n"
     ]
    }
   ],
   "source": [
    "# Check coordinate reference system information (re-project/define if needed)\n",
    "if geo.crs:\n",
    "    print(f\"The existing CRS of geo is {geo.crs}\")\n",
    "    geo = geo.to_crs(epsg=3879)\n",
    "    print(f\"The reprojected CRS of geo is {geo.crs}\")\n",
    "else:\n",
    "    geo.crs = CRS.from_epsg(3879).to_wkt()\n",
    "    print(f\"geo didn't have a CRS so it is now projected to {geo.crs}\")"
   ]
  },
  {
   "cell_type": "code",
   "execution_count": 4,
   "metadata": {
    "deletable": false,
    "nbgrader": {
     "cell_type": "code",
     "checksum": "5c1d055ae749e65f0c63e487b074ad21",
     "grade": false,
     "grade_id": "nearest_points",
     "locked": false,
     "schema_version": 3,
     "solution": true,
     "task": false
    }
   },
   "outputs": [
    {
     "data": {
      "text/html": [
       "<div>\n",
       "<style scoped>\n",
       "    .dataframe tbody tr th:only-of-type {\n",
       "        vertical-align: middle;\n",
       "    }\n",
       "\n",
       "    .dataframe tbody tr th {\n",
       "        vertical-align: top;\n",
       "    }\n",
       "\n",
       "    .dataframe thead th {\n",
       "        text-align: right;\n",
       "    }\n",
       "</style>\n",
       "<table border=\"1\" class=\"dataframe\">\n",
       "  <thead>\n",
       "    <tr style=\"text-align: right;\">\n",
       "      <th></th>\n",
       "      <th>id</th>\n",
       "      <th>name</th>\n",
       "      <th>geometry</th>\n",
       "    </tr>\n",
       "  </thead>\n",
       "  <tbody>\n",
       "    <tr>\n",
       "      <th>0</th>\n",
       "      <td>0</td>\n",
       "      <td>Bain &amp; Company</td>\n",
       "      <td>POINT (25497262.268 6672885.179)</td>\n",
       "    </tr>\n",
       "    <tr>\n",
       "      <th>1</th>\n",
       "      <td>1</td>\n",
       "      <td>Vartiokylä Church</td>\n",
       "      <td>POINT (25505631.728 6678566.881)</td>\n",
       "    </tr>\n",
       "  </tbody>\n",
       "</table>\n",
       "</div>"
      ],
      "text/plain": [
       "   id               name                          geometry\n",
       "0   0     Bain & Company  POINT (25497262.268 6672885.179)\n",
       "1   1  Vartiokylä Church  POINT (25505631.728 6678566.881)"
      ]
     },
     "execution_count": 4,
     "metadata": {},
     "output_type": "execute_result"
    }
   ],
   "source": [
    "# Join the tables\n",
    "geodata = geo.join(data)\n",
    "geodata = geodata[[\"id\", \"name\", \"geometry\"]]\n",
    "geodata"
   ]
  },
  {
   "cell_type": "code",
   "execution_count": 5,
   "metadata": {},
   "outputs": [
    {
     "data": {
      "text/html": [
       "<div>\n",
       "<style scoped>\n",
       "    .dataframe tbody tr th:only-of-type {\n",
       "        vertical-align: middle;\n",
       "    }\n",
       "\n",
       "    .dataframe tbody tr th {\n",
       "        vertical-align: top;\n",
       "    }\n",
       "\n",
       "    .dataframe thead th {\n",
       "        text-align: right;\n",
       "    }\n",
       "</style>\n",
       "<table border=\"1\" class=\"dataframe\">\n",
       "  <thead>\n",
       "    <tr style=\"text-align: right;\">\n",
       "      <th></th>\n",
       "      <th>address</th>\n",
       "      <th>id</th>\n",
       "      <th>name</th>\n",
       "      <th>addr</th>\n",
       "      <th>geometry</th>\n",
       "    </tr>\n",
       "  </thead>\n",
       "  <tbody>\n",
       "    <tr>\n",
       "      <th>0</th>\n",
       "      <td>Kauppakeskus Itis, 1-7, Itäkatu, Itäkeskus, Va...</td>\n",
       "      <td>0</td>\n",
       "      <td>Itis</td>\n",
       "      <td>Itäkatu 1-7, 00930 Helsinki, Finland</td>\n",
       "      <td>POINT (25504598.602 6677662.109)</td>\n",
       "    </tr>\n",
       "    <tr>\n",
       "      <th>1</th>\n",
       "      <td>Salaattiasema, 14-20, Mannerheimintie, Keskust...</td>\n",
       "      <td>1</td>\n",
       "      <td>Forum</td>\n",
       "      <td>Mannerheimintie 14?20, 00100 Helsinki, Finland</td>\n",
       "      <td>POINT (25496573.542 6672878.360)</td>\n",
       "    </tr>\n",
       "    <tr>\n",
       "      <th>2</th>\n",
       "      <td>Iso Omena, 11, Piispansilta, Matinkylä, Suur-M...</td>\n",
       "      <td>2</td>\n",
       "      <td>Iso-omena</td>\n",
       "      <td>Piispansilta 11, 02230 Espoo, Finland</td>\n",
       "      <td>POINT (25485470.196 6672071.413)</td>\n",
       "    </tr>\n",
       "    <tr>\n",
       "      <th>3</th>\n",
       "      <td>Lasten kappeli Arkki, 3-9, Leppävaarankatu, Sä...</td>\n",
       "      <td>3</td>\n",
       "      <td>Sello</td>\n",
       "      <td>Leppävaarankatu 3-9, 02600 Espoo, Finland</td>\n",
       "      <td>POINT (25489491.076 6678322.265)</td>\n",
       "    </tr>\n",
       "    <tr>\n",
       "      <th>4</th>\n",
       "      <td>Stockmann, 3, Vantaanportinkatu, Vantaanportti...</td>\n",
       "      <td>4</td>\n",
       "      <td>Jumbo</td>\n",
       "      <td>Vantaanportinkatu 3, 01510 Vantaa, Finland</td>\n",
       "      <td>POINT (25497943.932 6686656.982)</td>\n",
       "    </tr>\n",
       "    <tr>\n",
       "      <th>5</th>\n",
       "      <td>Silta, 5, Hermannin rantatie, Verkkosaari, Kal...</td>\n",
       "      <td>5</td>\n",
       "      <td>REDI</td>\n",
       "      <td>Hermannin rantatie 5, 00580 Helsinki, Finland</td>\n",
       "      <td>POINT (25498837.156 6674909.983)</td>\n",
       "    </tr>\n",
       "    <tr>\n",
       "      <th>6</th>\n",
       "      <td>Viikki, Koillinen suurpiiri, Helsinki, Helsing...</td>\n",
       "      <td>6</td>\n",
       "      <td>Tripla</td>\n",
       "      <td>00520 Helsinki, Finland</td>\n",
       "      <td>POINT (25501100.650 6678519.536)</td>\n",
       "    </tr>\n",
       "  </tbody>\n",
       "</table>\n",
       "</div>"
      ],
      "text/plain": [
       "                                             address  id       name  \\\n",
       "0  Kauppakeskus Itis, 1-7, Itäkatu, Itäkeskus, Va...   0       Itis   \n",
       "1  Salaattiasema, 14-20, Mannerheimintie, Keskust...   1      Forum   \n",
       "2  Iso Omena, 11, Piispansilta, Matinkylä, Suur-M...   2  Iso-omena   \n",
       "3  Lasten kappeli Arkki, 3-9, Leppävaarankatu, Sä...   3      Sello   \n",
       "4  Stockmann, 3, Vantaanportinkatu, Vantaanportti...   4      Jumbo   \n",
       "5  Silta, 5, Hermannin rantatie, Verkkosaari, Kal...   5       REDI   \n",
       "6  Viikki, Koillinen suurpiiri, Helsinki, Helsing...   6     Tripla   \n",
       "\n",
       "                                             addr  \\\n",
       "0            Itäkatu 1-7, 00930 Helsinki, Finland   \n",
       "1  Mannerheimintie 14?20, 00100 Helsinki, Finland   \n",
       "2           Piispansilta 11, 02230 Espoo, Finland   \n",
       "3       Leppävaarankatu 3-9, 02600 Espoo, Finland   \n",
       "4      Vantaanportinkatu 3, 01510 Vantaa, Finland   \n",
       "5   Hermannin rantatie 5, 00580 Helsinki, Finland   \n",
       "6                         00520 Helsinki, Finland   \n",
       "\n",
       "                           geometry  \n",
       "0  POINT (25504598.602 6677662.109)  \n",
       "1  POINT (25496573.542 6672878.360)  \n",
       "2  POINT (25485470.196 6672071.413)  \n",
       "3  POINT (25489491.076 6678322.265)  \n",
       "4  POINT (25497943.932 6686656.982)  \n",
       "5  POINT (25498837.156 6674909.983)  \n",
       "6  POINT (25501100.650 6678519.536)  "
      ]
     },
     "execution_count": 5,
     "metadata": {},
     "output_type": "execute_result"
    }
   ],
   "source": [
    "# Read in the shopping center\n",
    "shop_centers = gpd.read_file(\"shopping_centers.shp\")\n",
    "shop_centers"
   ]
  },
  {
   "cell_type": "code",
   "execution_count": 6,
   "metadata": {},
   "outputs": [],
   "source": [
    "def get_nearest_values(row, other_gdf, point_col=\"geometry\", value_col=\"geometry\"):\n",
    "    \"\"\"\n",
    "    Find the nearest point and return the corresponding value from specified value column.\n",
    "    \n",
    "    Parameters\n",
    "    ----------\n",
    "    row : GeoDataFrame\n",
    "        Row from which values will be retrieved\n",
    "    other_gdf : GeoDataFrame\n",
    "        GeoDataFrame with points to calculate nearest neighbor\n",
    "    point_col : str\n",
    "        Name of the column containing the points\n",
    "    value_col : str\n",
    "        Name of the column containing the value of the nearest neighbor\n",
    "        \n",
    "    Return\n",
    "    ------\n",
    "    nearest_value : int\n",
    "        Value from the nearest neighbor\n",
    "    \"\"\"\n",
    "    # Create an union of the other GeoDataFrame's value\n",
    "    other_points = other_gdf[\"geometry\"].unary_union\n",
    "    \n",
    "    # Find the nearest points\n",
    "    nearest_geoms = nearest_points(row[point_col], other_points)\n",
    "    \n",
    "    # Get corresponding values from other_gdf\n",
    "    nearest_data = other_gdf.loc[other_gdf[\"geometry\"] == nearest_geoms[1]]\n",
    "    \n",
    "    # Extract needed value\n",
    "    nearest_val = nearest_data[value_col].values[0]\n",
    "    \n",
    "    return nearest_val"
   ]
  },
  {
   "cell_type": "code",
   "execution_count": 7,
   "metadata": {},
   "outputs": [
    {
     "data": {
      "text/html": [
       "<div>\n",
       "<style scoped>\n",
       "    .dataframe tbody tr th:only-of-type {\n",
       "        vertical-align: middle;\n",
       "    }\n",
       "\n",
       "    .dataframe tbody tr th {\n",
       "        vertical-align: top;\n",
       "    }\n",
       "\n",
       "    .dataframe thead th {\n",
       "        text-align: right;\n",
       "    }\n",
       "</style>\n",
       "<table border=\"1\" class=\"dataframe\">\n",
       "  <thead>\n",
       "    <tr style=\"text-align: right;\">\n",
       "      <th></th>\n",
       "      <th>id</th>\n",
       "      <th>name</th>\n",
       "      <th>geometry</th>\n",
       "      <th>nearest_loc</th>\n",
       "    </tr>\n",
       "  </thead>\n",
       "  <tbody>\n",
       "    <tr>\n",
       "      <th>0</th>\n",
       "      <td>0</td>\n",
       "      <td>Bain &amp; Company</td>\n",
       "      <td>POINT (25497262.268 6672885.179)</td>\n",
       "      <td>Forum</td>\n",
       "    </tr>\n",
       "    <tr>\n",
       "      <th>1</th>\n",
       "      <td>1</td>\n",
       "      <td>Vartiokylä Church</td>\n",
       "      <td>POINT (25505631.728 6678566.881)</td>\n",
       "      <td>Itis</td>\n",
       "    </tr>\n",
       "  </tbody>\n",
       "</table>\n",
       "</div>"
      ],
      "text/plain": [
       "   id               name                          geometry nearest_loc\n",
       "0   0     Bain & Company  POINT (25497262.268 6672885.179)       Forum\n",
       "1   1  Vartiokylä Church  POINT (25505631.728 6678566.881)        Itis"
      ]
     },
     "execution_count": 7,
     "metadata": {},
     "output_type": "execute_result"
    }
   ],
   "source": [
    "# Find out the nearest shopping center\n",
    "geodata[\"nearest_loc\"] = geodata.apply(lambda row: get_nearest_values(row, shop_centers, value_col=\"name\"), axis=1)\n",
    "geodata"
   ]
  },
  {
   "cell_type": "code",
   "execution_count": 8,
   "metadata": {},
   "outputs": [
    {
     "data": {
      "image/png": "[encoded data removed]",
      "text/plain": [
       "<Figure size 720x504 with 1 Axes>"
      ]
     },
     "metadata": {
      "needs_background": "light"
     },
     "output_type": "display_data"
    }
   ],
   "source": [
    "# Plot the points\n",
    "fig, ax = plt.subplots(figsize=(10, 7))\n",
    "\n",
    "shop_centers.plot(ax=ax)\n",
    "near = shop_centers[(shop_centers[\"name\"] == geodata.iloc[0, 3]) | \n",
    "                    (shop_centers[\"name\"] == geodata.iloc[1, 3])]\n",
    "near.plot(ax=ax, color=\"red\")\n",
    "geodata.plot(ax=ax, color=\"black\");"
   ]
  },
  {
   "cell_type": "code",
   "execution_count": 9,
   "metadata": {},
   "outputs": [
    {
     "name": "stdout",
     "output_type": "stream",
     "text": [
      "Shopping center closest to Bain & Company is: Forum.\n",
      "Shopping center closest to Vartiokylä Church is: Itis.\n"
     ]
    }
   ],
   "source": [
    "# Print out the name of the shopping centers and activity locations\n",
    "print(f\"Shopping center closest to {geodata.iloc[0, 1]} is: {geodata.iloc[0, 3]}.\")\n",
    "print(f\"Shopping center closest to {geodata.iloc[1, 1]} is: {geodata.iloc[1, 3]}.\")"
   ]
  },
  {
   "cell_type": "markdown",
   "metadata": {},
   "source": [
    "Can you think of other application cases for the nearest neighbour analysis?"
   ]
  },
  {
   "cell_type": "code",
   "execution_count": 10,
   "metadata": {},
   "outputs": [],
   "source": [
    "def calc_dist(row, dest_geom, src_col=\"geometry\", target_col=\"distance\"):\n",
    "    \"\"\"\n",
    "    Calculates the distance between Point geometries.\n",
    "\n",
    "    Parameters\n",
    "    ----------\n",
    "    row : GeoDataFrame\n",
    "        Row from which values will be retrieved\n",
    "    dest_geom : shapely.Point\n",
    "       A single Shapely Point geometry to which the distances will be calculated to.\n",
    "    src_col : str\n",
    "       A name of the column that has the Shapely Point objects from where the distances will be calculated from.\n",
    "    target_col : str\n",
    "       A name of the target column where the result will be stored.\n",
    "\n",
    "    Return\n",
    "    -------\n",
    "        Distance in kilometers that will be stored in 'target_col'.\n",
    "    \"\"\"\n",
    "\n",
    "    # Calculate the distances\n",
    "    dist = row[src_col].distance(dest_geom)\n",
    "\n",
    "    # Convert into kilometers\n",
    "    dist_km = dist / 1000\n",
    "\n",
    "    # Assign the distance to the original data\n",
    "    row[target_col] = dist_km\n",
    "    return row"
   ]
  },
  {
   "cell_type": "code",
   "execution_count": 11,
   "metadata": {},
   "outputs": [
    {
     "data": {
      "text/html": [
       "<div>\n",
       "<style scoped>\n",
       "    .dataframe tbody tr th:only-of-type {\n",
       "        vertical-align: middle;\n",
       "    }\n",
       "\n",
       "    .dataframe tbody tr th {\n",
       "        vertical-align: top;\n",
       "    }\n",
       "\n",
       "    .dataframe thead th {\n",
       "        text-align: right;\n",
       "    }\n",
       "</style>\n",
       "<table border=\"1\" class=\"dataframe\">\n",
       "  <thead>\n",
       "    <tr style=\"text-align: right;\">\n",
       "      <th></th>\n",
       "      <th>address</th>\n",
       "      <th>id</th>\n",
       "      <th>name</th>\n",
       "      <th>addr</th>\n",
       "      <th>geometry</th>\n",
       "      <th>dist_to_Bain&amp;Co</th>\n",
       "      <th>dist_to_Church</th>\n",
       "    </tr>\n",
       "  </thead>\n",
       "  <tbody>\n",
       "    <tr>\n",
       "      <th>0</th>\n",
       "      <td>Kauppakeskus Itis, 1-7, Itäkatu, Itäkeskus, Va...</td>\n",
       "      <td>0</td>\n",
       "      <td>Itis</td>\n",
       "      <td>Itäkatu 1-7, 00930 Helsinki, Finland</td>\n",
       "      <td>POINT (25504598.602 6677662.109)</td>\n",
       "      <td>8.754476</td>\n",
       "      <td>1.373304</td>\n",
       "    </tr>\n",
       "    <tr>\n",
       "      <th>1</th>\n",
       "      <td>Salaattiasema, 14-20, Mannerheimintie, Keskust...</td>\n",
       "      <td>1</td>\n",
       "      <td>Forum</td>\n",
       "      <td>Mannerheimintie 14?20, 00100 Helsinki, Finland</td>\n",
       "      <td>POINT (25496573.542 6672878.360)</td>\n",
       "      <td>0.688759</td>\n",
       "      <td>10.696261</td>\n",
       "    </tr>\n",
       "    <tr>\n",
       "      <th>2</th>\n",
       "      <td>Iso Omena, 11, Piispansilta, Matinkylä, Suur-M...</td>\n",
       "      <td>2</td>\n",
       "      <td>Iso-omena</td>\n",
       "      <td>Piispansilta 11, 02230 Espoo, Finland</td>\n",
       "      <td>POINT (25485470.196 6672071.413)</td>\n",
       "      <td>11.820118</td>\n",
       "      <td>21.182032</td>\n",
       "    </tr>\n",
       "    <tr>\n",
       "      <th>3</th>\n",
       "      <td>Lasten kappeli Arkki, 3-9, Leppävaarankatu, Sä...</td>\n",
       "      <td>3</td>\n",
       "      <td>Sello</td>\n",
       "      <td>Leppävaarankatu 3-9, 02600 Espoo, Finland</td>\n",
       "      <td>POINT (25489491.076 6678322.265)</td>\n",
       "      <td>9.484373</td>\n",
       "      <td>16.142506</td>\n",
       "    </tr>\n",
       "    <tr>\n",
       "      <th>4</th>\n",
       "      <td>Stockmann, 3, Vantaanportinkatu, Vantaanportti...</td>\n",
       "      <td>4</td>\n",
       "      <td>Jumbo</td>\n",
       "      <td>Vantaanportinkatu 3, 01510 Vantaa, Finland</td>\n",
       "      <td>POINT (25497943.932 6686656.982)</td>\n",
       "      <td>13.788663</td>\n",
       "      <td>11.160284</td>\n",
       "    </tr>\n",
       "    <tr>\n",
       "      <th>5</th>\n",
       "      <td>Silta, 5, Hermannin rantatie, Verkkosaari, Kal...</td>\n",
       "      <td>5</td>\n",
       "      <td>REDI</td>\n",
       "      <td>Hermannin rantatie 5, 00580 Helsinki, Finland</td>\n",
       "      <td>POINT (25498837.156 6674909.983)</td>\n",
       "      <td>2.565171</td>\n",
       "      <td>7.716159</td>\n",
       "    </tr>\n",
       "    <tr>\n",
       "      <th>6</th>\n",
       "      <td>Viikki, Koillinen suurpiiri, Helsinki, Helsing...</td>\n",
       "      <td>6</td>\n",
       "      <td>Tripla</td>\n",
       "      <td>00520 Helsinki, Finland</td>\n",
       "      <td>POINT (25501100.650 6678519.536)</td>\n",
       "      <td>6.817562</td>\n",
       "      <td>4.531326</td>\n",
       "    </tr>\n",
       "  </tbody>\n",
       "</table>\n",
       "</div>"
      ],
      "text/plain": [
       "                                             address  id       name  \\\n",
       "0  Kauppakeskus Itis, 1-7, Itäkatu, Itäkeskus, Va...   0       Itis   \n",
       "1  Salaattiasema, 14-20, Mannerheimintie, Keskust...   1      Forum   \n",
       "2  Iso Omena, 11, Piispansilta, Matinkylä, Suur-M...   2  Iso-omena   \n",
       "3  Lasten kappeli Arkki, 3-9, Leppävaarankatu, Sä...   3      Sello   \n",
       "4  Stockmann, 3, Vantaanportinkatu, Vantaanportti...   4      Jumbo   \n",
       "5  Silta, 5, Hermannin rantatie, Verkkosaari, Kal...   5       REDI   \n",
       "6  Viikki, Koillinen suurpiiri, Helsinki, Helsing...   6     Tripla   \n",
       "\n",
       "                                             addr  \\\n",
       "0            Itäkatu 1-7, 00930 Helsinki, Finland   \n",
       "1  Mannerheimintie 14?20, 00100 Helsinki, Finland   \n",
       "2           Piispansilta 11, 02230 Espoo, Finland   \n",
       "3       Leppävaarankatu 3-9, 02600 Espoo, Finland   \n",
       "4      Vantaanportinkatu 3, 01510 Vantaa, Finland   \n",
       "5   Hermannin rantatie 5, 00580 Helsinki, Finland   \n",
       "6                         00520 Helsinki, Finland   \n",
       "\n",
       "                           geometry  dist_to_Bain&Co  dist_to_Church  \n",
       "0  POINT (25504598.602 6677662.109)         8.754476        1.373304  \n",
       "1  POINT (25496573.542 6672878.360)         0.688759       10.696261  \n",
       "2  POINT (25485470.196 6672071.413)        11.820118       21.182032  \n",
       "3  POINT (25489491.076 6678322.265)         9.484373       16.142506  \n",
       "4  POINT (25497943.932 6686656.982)        13.788663       11.160284  \n",
       "5  POINT (25498837.156 6674909.983)         2.565171        7.716159  \n",
       "6  POINT (25501100.650 6678519.536)         6.817562        4.531326  "
      ]
     },
     "execution_count": 11,
     "metadata": {},
     "output_type": "execute_result"
    }
   ],
   "source": [
    "# Calculate the distance\n",
    "temp = shop_centers.apply(calc_dist, dest_geom=geodata.iloc[0, 2], target_col=\"dist_to_Bain&Co\", axis=1)\n",
    "temp = temp.apply(calc_dist, dest_geom=geodata.iloc[1, 2], target_col=\"dist_to_Church\", axis=1)\n",
    "temp"
   ]
  },
  {
   "cell_type": "code",
   "execution_count": 12,
   "metadata": {},
   "outputs": [],
   "source": [
    "# Add distance to geodata\n",
    "geodata[\"distance\"] = None\n",
    "geodata.iloc[0, 4] = temp[\"dist_to_Bain&Co\"].min()\n",
    "geodata.iloc[1, 4] = temp[\"dist_to_Church\"].min()"
   ]
  },
  {
   "cell_type": "code",
   "execution_count": 13,
   "metadata": {
    "deletable": false,
    "nbgrader": {
     "cell_type": "code",
     "checksum": "9097d06476510270641179f9a799bad7",
     "grade": true,
     "grade_id": "problem_4_check",
     "locked": false,
     "points": 5,
     "schema_version": 3,
     "solution": true
    }
   },
   "outputs": [
    {
     "name": "stdout",
     "output_type": "stream",
     "text": [
      "Shopping center closest to Bain & Company is: Forum, with a distance of: 0.69 m.\n",
      "Shopping center closest to Vartiokylä Church is: Itis, with a distance of: 1.37 m.\n"
     ]
    }
   ],
   "source": [
    "# Print out the name of the shopping centers and activity locations with the distance between them\n",
    "print(f\"Shopping center closest to {geodata.iloc[0, 1]} is: {geodata.iloc[0, 3]}, with a distance of: {geodata.iloc[0, 4]:.2f} m.\")\n",
    "print(f\"Shopping center closest to {geodata.iloc[1, 1]} is: {geodata.iloc[1, 3]}, with a distance of: {geodata.iloc[1, 4]:.2f} m.\")"
   ]
  }
 ],
 "metadata": {
  "anaconda-cloud": {},
  "kernelspec": {
   "display_name": "Python 3 (ipykernel)",
   "language": "python",
   "name": "python3"
  },
  "language_info": {
   "codemirror_mode": {
    "name": "ipython",
    "version": 3
   },
   "file_extension": ".py",
   "mimetype": "text/x-python",
   "name": "python",
   "nbconvert_exporter": "python",
   "pygments_lexer": "ipython3",
   "version": "3.8.2"
  }
 },
 "nbformat": 4,
 "nbformat_minor": 4
}
